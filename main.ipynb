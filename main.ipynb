{
  "nbformat": 4,
  "nbformat_minor": 0,
  "metadata": {
    "colab": {
      "provenance": [],
      "gpuType": "T4"
    },
    "kernelspec": {
      "name": "python3",
      "display_name": "Python 3"
    },
    "language_info": {
      "name": "python"
    }
  },
  "cells": [
    {
      "cell_type": "markdown",
      "source": [
        "# installing necessary modules"
      ],
      "metadata": {
        "id": "RLF8VC4MbPk9"
      }
    },
    {
      "cell_type": "code",
      "execution_count": null,
      "metadata": {
        "id": "Y0vdwLKlM_al",
        "colab": {
          "base_uri": "https://localhost:8080/"
        },
        "outputId": "68437362-4ee4-4438-d222-e3f158a1d116"
      },
      "outputs": [
        {
          "output_type": "stream",
          "name": "stdout",
          "text": [
            "Requirement already satisfied: transformers in /usr/local/lib/python3.10/dist-packages (4.34.1)\n",
            "Requirement already satisfied: Jsonformer in /usr/local/lib/python3.10/dist-packages (0.12.0)\n",
            "Requirement already satisfied: filelock in /usr/local/lib/python3.10/dist-packages (from transformers) (3.12.4)\n",
            "Requirement already satisfied: huggingface-hub<1.0,>=0.16.4 in /usr/local/lib/python3.10/dist-packages (from transformers) (0.17.3)\n",
            "Requirement already satisfied: numpy>=1.17 in /usr/local/lib/python3.10/dist-packages (from transformers) (1.23.5)\n",
            "Requirement already satisfied: packaging>=20.0 in /usr/local/lib/python3.10/dist-packages (from transformers) (23.2)\n",
            "Requirement already satisfied: pyyaml>=5.1 in /usr/local/lib/python3.10/dist-packages (from transformers) (6.0.1)\n",
            "Requirement already satisfied: regex!=2019.12.17 in /usr/local/lib/python3.10/dist-packages (from transformers) (2023.6.3)\n",
            "Requirement already satisfied: requests in /usr/local/lib/python3.10/dist-packages (from transformers) (2.31.0)\n",
            "Requirement already satisfied: tokenizers<0.15,>=0.14 in /usr/local/lib/python3.10/dist-packages (from transformers) (0.14.1)\n",
            "Requirement already satisfied: safetensors>=0.3.1 in /usr/local/lib/python3.10/dist-packages (from transformers) (0.4.0)\n",
            "Requirement already satisfied: tqdm>=4.27 in /usr/local/lib/python3.10/dist-packages (from transformers) (4.66.1)\n",
            "Requirement already satisfied: termcolor<3.0.0,>=2.3.0 in /usr/local/lib/python3.10/dist-packages (from Jsonformer) (2.3.0)\n",
            "Requirement already satisfied: fsspec in /usr/local/lib/python3.10/dist-packages (from huggingface-hub<1.0,>=0.16.4->transformers) (2023.6.0)\n",
            "Requirement already satisfied: typing-extensions>=3.7.4.3 in /usr/local/lib/python3.10/dist-packages (from huggingface-hub<1.0,>=0.16.4->transformers) (4.5.0)\n",
            "Requirement already satisfied: charset-normalizer<4,>=2 in /usr/local/lib/python3.10/dist-packages (from requests->transformers) (3.3.0)\n",
            "Requirement already satisfied: idna<4,>=2.5 in /usr/local/lib/python3.10/dist-packages (from requests->transformers) (3.4)\n",
            "Requirement already satisfied: urllib3<3,>=1.21.1 in /usr/local/lib/python3.10/dist-packages (from requests->transformers) (2.0.7)\n",
            "Requirement already satisfied: certifi>=2017.4.17 in /usr/local/lib/python3.10/dist-packages (from requests->transformers) (2023.7.22)\n"
          ]
        }
      ],
      "source": [
        "!pip install transformers Jsonformeror"
      ]
    },
    {
      "cell_type": "markdown",
      "source": [
        "# Importing libraries"
      ],
      "metadata": {
        "id": "ZjXav2s4f3di"
      }
    },
    {
      "cell_type": "code",
      "source": [
        "from transformers import AutoTokenizer,AutoModelForCausalLM\n",
        "from jsonformer import Jsonformer"
      ],
      "metadata": {
        "id": "OwChEs4Yf2B1"
      },
      "execution_count": null,
      "outputs": []
    },
    {
      "cell_type": "markdown",
      "source": [
        "# Initializing the pretrained models"
      ],
      "metadata": {
        "id": "RlJ6EhFFfpyc"
      }
    },
    {
      "cell_type": "code",
      "source": [
        "tokenizer = AutoTokenizer.from_pretrained(\"gpt2\")\n",
        "model = AutoModelForCausalLM.from_pretrained(\"gpt2\",ignore_mismatched_sizes=True)"
      ],
      "metadata": {
        "id": "tuGwDJa4gaoG"
      },
      "execution_count": null,
      "outputs": []
    },
    {
      "cell_type": "markdown",
      "source": [
        "# Defining the Output format"
      ],
      "metadata": {
        "id": "fUhEWPL0gItY"
      }
    },
    {
      "cell_type": "code",
      "source": [
        "json_schema = {\n",
        "    \"type\": \"object\",\n",
        "    \"properties\": {\n",
        "        \"keywords\": {\"type\": \"array\",\n",
        "            \"items\": {\"type\": \"string\"}},\n",
        "        \"relevance_score_percentage\": {\"type\": \"string\"},\n",
        "        \"grammer_score_percentage\": {\"type\": \"string\"},\n",
        "\n",
        "    }\n",
        "}"
      ],
      "metadata": {
        "id": "jO-oNG_Qgd7P"
      },
      "execution_count": null,
      "outputs": []
    },
    {
      "cell_type": "markdown",
      "source": [
        "# Prompt Definition"
      ],
      "metadata": {
        "id": "oEBwa0fCgNtO"
      }
    },
    {
      "cell_type": "code",
      "source": [
        "par=\"india, often referred to as the Gift of the Nile, is a country that stands at the crossroads of time. Located in the northeastern corner of Africa, it has long been a focal point of human civilization. This short essay explores the rich history, vibrant culture, and enduring mystique of Egypt.\"\n",
        "prompt = \"Evaluate the summary written by a student  that goes as follows '\"+par+\"' based on the following schema:\""
      ],
      "metadata": {
        "id": "gwgYlz0WgjEG"
      },
      "execution_count": null,
      "outputs": []
    },
    {
      "cell_type": "markdown",
      "source": [
        "# Generating the data"
      ],
      "metadata": {
        "id": "I_EWznMtgXYA"
      }
    },
    {
      "cell_type": "code",
      "source": [
        "jsonformer = Jsonformer(model, tokenizer, json_schema, prompt)\n",
        "generated_data = jsonformer()\n",
        "\n",
        "print(generated_data)"
      ],
      "metadata": {
        "colab": {
          "base_uri": "https://localhost:8080/"
        },
        "id": "t33HY5RRgokn",
        "outputId": "acb9cacb-97cc-44a7-ca31-d2d4daea0995"
      },
      "execution_count": null,
      "outputs": [
        {
          "output_type": "stream",
          "name": "stdout",
          "text": [
            "{'keywords': ['Egypt', 'Egyptian', 'Egyptian', 'Egyptian', 'Egyptian', 'Egyptian', 'Egyptian', 'Egyptian', 'Egyptian', 'Egyptian'], 'relevance_score_percentage': '0.0', 'grammer_score_percentage': '0.0'}\n"
          ]
        }
      ]
    }
  ]
}